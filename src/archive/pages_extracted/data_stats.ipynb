{
 "cells": [
  {
   "cell_type": "code",
   "execution_count": 1,
   "id": "31c4ad30",
   "metadata": {},
   "outputs": [],
   "source": [
    "import json"
   ]
  },
  {
   "cell_type": "code",
   "execution_count": 2,
   "id": "06b2ca6f",
   "metadata": {},
   "outputs": [
    {
     "name": "stdout",
     "output_type": "stream",
     "text": [
      "Ciper - Pages extracted: 25\n",
      "El Mostrador - Pages extracted: 99\n",
      "Ex-Ante - Pages extracted: 99\n",
      "El País - Pages extracted: 128\n",
      "Emol - Pages extracted: 215\n",
      "La Tercera - Pages extracted: 269\n",
      "Total pages extracted: 835\n"
     ]
    }
   ],
   "source": [
    "\n",
    "ciper_data = {}\n",
    "el_mostrador_data= {}\n",
    "ex_ante_data = {}\n",
    "elpais_data = {}\n",
    "emol_data = {}\n",
    "la_tercera_data = {}\n",
    "\n",
    "with open(\"ciper/ciper_pages.json\", 'r', encoding='utf-8') as file:\n",
    "\tciper_data = json.load(file)\n",
    "\n",
    "with open(\"el_mostrador/el_mostrador_pages.json\", 'r', encoding='utf-8') as file:\n",
    "\tel_mostrador_data = json.load(file)\n",
    "\n",
    "with open(\"ex_ante/ex_ante_pages.json\", 'r', encoding='utf-8') as file:\n",
    "\tex_ante_data = json.load(file)\n",
    "\n",
    "with open(\"el_pais/el_pais_cleanData_080725.json\", 'r', encoding='utf-8') as file:\n",
    "\telpais_data = json.load(file)\n",
    "    \n",
    "with open(\"emol/emol_pages_with_content.json\", 'r', encoding='utf-8') as file:\n",
    "\temol_data = json.load(file)\n",
    "\n",
    "with open(\"la_tercera/la_tercera_080725_cleanData.json\", 'r', encoding='utf-8') as file:\n",
    "\tla_tercera_data = json.load(file)\n",
    "    \n",
    "ciper_data = len(ciper_data[\"pages\"])\n",
    "el_mostrador_data = len(el_mostrador_data[\"pages\"])\n",
    "ex_ante_data = len(ex_ante_data[\"pages\"])\n",
    "elpais_data = len(elpais_data[\"pages\"])\n",
    "emol_data = len(emol_data[\"pages\"])\n",
    "la_tercera_data = len(la_tercera_data[\"pages\"])\n",
    "\n",
    "total_pages = (ciper_data + el_mostrador_data + ex_ante_data + elpais_data + emol_data + la_tercera_data)\n",
    "\n",
    "print(\"Ciper - Pages extracted: \" + str(ciper_data))\n",
    "print(\"El Mostrador - Pages extracted: \" + str(el_mostrador_data))\n",
    "print(\"Ex-Ante - Pages extracted: \" + str(ex_ante_data))\n",
    "print(\"El País - Pages extracted: \" + str(elpais_data))\n",
    "print(\"Emol - Pages extracted: \" + str(emol_data))\n",
    "print(\"La Tercera - Pages extracted: \" + str(la_tercera_data))\n",
    "print(\"Total pages extracted: \" + str(total_pages))"
   ]
  },
  {
   "cell_type": "code",
   "execution_count": null,
   "id": "01c73a7e",
   "metadata": {},
   "outputs": [
    {
     "name": "stdout",
     "output_type": "stream",
     "text": [
      "Total links in raw data: 835\n",
      "Coincidence found[Ciper]: https://www.ciperchile.cl/2022/12/21/reforma-previsional-sin-abusar/ and https://www.ciperchile.cl/2022/12/21/reforma-previsional-sin-abusar/\n",
      "Coincidence found[Ciper]: https://www.ciperchile.cl/2022/11/23/cartas-proposito-del-simce/ and https://www.ciperchile.cl/2022/11/23/cartas-proposito-del-simce/\n",
      "Coincidence found[Ciper]: https://www.ciperchile.cl/2022/10/26/cartas-reforma-a-carabineros-y-responsabilidad-de-altos-mandos/ and https://www.ciperchile.cl/2022/10/26/cartas-reforma-a-carabineros-y-responsabilidad-de-altos-mandos/\n",
      "Coincidence found[Ciper]: https://www.ciperchile.cl/2022/09/30/ni-pueblo-ni-elites-otro-diagnostico-del-estallido-social-al-rechazo/ and https://www.ciperchile.cl/2022/09/30/ni-pueblo-ni-elites-otro-diagnostico-del-estallido-social-al-rechazo/\n",
      "Coincidence found[Ciper]: https://www.ciperchile.cl/2022/03/09/balance-de-un-periodo-2-el-traspaso-de-una-banda/ and https://www.ciperchile.cl/2022/03/09/balance-de-un-periodo-2-el-traspaso-de-una-banda/\n",
      "Coincidence found[Ciper]: https://www.ciperchile.cl/2022/02/26/lo-mejor-de-ciper-4-el-periodismo-que-remece-a-chile/ and https://www.ciperchile.cl/2022/02/26/lo-mejor-de-ciper-4-el-periodismo-que-remece-a-chile/\n",
      "Coincidence found[Ciper]: https://www.ciperchile.cl/2022/02/09/causas-del-estallido-social-12-personas-han-pasado-dos-anos-o-mas-en-prision-preventiva/ and https://www.ciperchile.cl/2022/02/09/causas-del-estallido-social-12-personas-han-pasado-dos-anos-o-mas-en-prision-preventiva/\n",
      "Coincidence found[Ciper]: https://www.ciperchile.cl/2021/10/27/ariel-moreno-la-historia-de-un-asesinato-desde-las-sombras-durante-el-estallido-social/ and https://www.ciperchile.cl/2021/10/27/ariel-moreno-la-historia-de-un-asesinato-desde-las-sombras-durante-el-estallido-social/\n",
      "Total coincidences: 8\n",
      "Total unique links: 827\n"
     ]
    }
   ],
   "source": [
    "\n",
    "ciper_data = {}\n",
    "el_mostrador_data= {}\n",
    "ex_ante_data = {}\n",
    "elpais_data = {}\n",
    "emol_data = {}\n",
    "la_tercera_data = {}\n",
    "\n",
    "with open(\"ciper/ciper_pages.json\", 'r', encoding='utf-8') as file:\n",
    "\tciper_data = json.load(file)\n",
    "\n",
    "with open(\"el_mostrador/el_mostrador_pages.json\", 'r', encoding='utf-8') as file:\n",
    "\tel_mostrador_data = json.load(file)\n",
    "\n",
    "with open(\"ex_ante/ex_ante_pages.json\", 'r', encoding='utf-8') as file:\n",
    "\tex_ante_data = json.load(file)\n",
    "\n",
    "with open(\"el_pais/el_pais_cleanData_080725.json\", 'r', encoding='utf-8') as file:\n",
    "\telpais_data = json.load(file)\n",
    "    \n",
    "with open(\"emol/emol_pages_with_content.json\", 'r', encoding='utf-8') as file:\n",
    "\temol_data = json.load(file)\n",
    "\n",
    "with open(\"la_tercera/la_tercera_080725_cleanData.json\", 'r', encoding='utf-8') as file:\n",
    "\tla_tercera_data = json.load(file)\n",
    "\n",
    "all_data = ciper_data[\"pages\"] + el_mostrador_data[\"pages\"] + ex_ante_data[\"pages\"] + elpais_data[\"pages\"] + emol_data[\"pages\"] + la_tercera_data[\"pages\"]\n",
    "coincidence = 0\n",
    "clean_data_links = []\n",
    "\n",
    "clean_data = {\n",
    "\t\"pages\": []\n",
    "}\n",
    "\n",
    "coincidence_boolean = False\n",
    "\n",
    "print(f\"Total links in raw data: {len(all_data)}\")\n",
    "\n",
    "for page in all_data:\n",
    "\tfor link in clean_data_links:\n",
    "\t\tif page[\"link\"] in link:\n",
    "\t\t\tprint(f\"A coincidence was found[{page['newscast']}]: {page['link']} and {link}\")\n",
    "\t\t\tcoincidence += 1\n",
    "\t\t\tcoincidence_boolean = True\n",
    "\t\t\tbreak\n",
    "\tif not coincidence_boolean:\n",
    "\t\tclean_data[\"pages\"].append(page)\n",
    "\t\tclean_data_links.append(page[\"link\"])\n",
    "\tcoincidence_boolean = False\n",
    "\n",
    "print(f\"Total coincidences: {coincidence}\")\n",
    "print(f\"Total unique links: {len(clean_data['pages'])}\")"
   ]
  }
 ],
 "metadata": {
  "kernelspec": {
   "display_name": ".venv",
   "language": "python",
   "name": "python3"
  },
  "language_info": {
   "codemirror_mode": {
    "name": "ipython",
    "version": 3
   },
   "file_extension": ".py",
   "mimetype": "text/x-python",
   "name": "python",
   "nbconvert_exporter": "python",
   "pygments_lexer": "ipython3",
   "version": "3.11.9"
  }
 },
 "nbformat": 4,
 "nbformat_minor": 5
}
