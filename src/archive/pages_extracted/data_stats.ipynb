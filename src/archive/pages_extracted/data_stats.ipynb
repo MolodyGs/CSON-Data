{
 "cells": [
  {
   "cell_type": "code",
   "execution_count": 3,
   "id": "06b2ca6f",
   "metadata": {},
   "outputs": [
    {
     "name": "stdout",
     "output_type": "stream",
     "text": [
      "Ciper - Pages extracted: 25\n",
      "El Mostrador - Pages extracted: 99\n",
      "El País - Pages extracted: 44\n",
      "Emol - Pages extracted: 215\n",
      "La Tercera - Pages extracted: 23\n",
      "Total pages extracted: 406\n"
     ]
    }
   ],
   "source": [
    "import json\n",
    "\n",
    "ciper_data = {}\n",
    "el_mostrador_data = {}\n",
    "elpais_data = {}\n",
    "emol_data = {}\n",
    "la_tercera_data = {}\n",
    "\n",
    "with open(\"ciper/ciper_pages.json\", 'r', encoding='utf-8') as file:\n",
    "\tciper_data = json.load(file)\n",
    "\n",
    "with open(\"el_mostrador/el_mostrador_pages.json\", 'r', encoding='utf-8') as file:\n",
    "\tel_mostrador_data = json.load(file)\n",
    "\n",
    "with open(\"el_pais/el_pais_pages_with_content_27_05_25.json\", 'r', encoding='utf-8') as file:\n",
    "\telpais_data = json.load(file)\n",
    "    \n",
    "with open(\"emol/emol_pages_with_content.json\", 'r', encoding='utf-8') as file:\n",
    "\temol_data = json.load(file)\n",
    "\n",
    "with open(\"la_tercera/la_tercera_pages.json\", 'r', encoding='utf-8') as file:\n",
    "\tla_tercera_data = json.load(file)\n",
    "    \n",
    "ciper_data = len(ciper_data[\"pages\"])\n",
    "el_mostrador_data = len(el_mostrador_data[\"pages\"])\n",
    "elpais_data = len(elpais_data[\"pages\"])\n",
    "emol_data = len(emol_data[\"pages\"])\n",
    "la_tercera_data = len(la_tercera_data[\"pages\"])\n",
    "\n",
    "total_pages = (ciper_data + el_mostrador_data + elpais_data + emol_data + la_tercera_data)\n",
    "\n",
    "print(\"Ciper - Pages extracted: \" + str(ciper_data))\n",
    "print(\"El Mostrador - Pages extracted: \" + str(el_mostrador_data))\n",
    "print(\"El País - Pages extracted: \" + str(elpais_data))\n",
    "print(\"Emol - Pages extracted: \" + str(emol_data))\n",
    "print(\"La Tercera - Pages extracted: \" + str(la_tercera_data))\n",
    "print(\"Total pages extracted: \" + str(total_pages))"
   ]
  }
 ],
 "metadata": {
  "kernelspec": {
   "display_name": ".venv",
   "language": "python",
   "name": "python3"
  },
  "language_info": {
   "codemirror_mode": {
    "name": "ipython",
    "version": 3
   },
   "file_extension": ".py",
   "mimetype": "text/x-python",
   "name": "python",
   "nbconvert_exporter": "python",
   "pygments_lexer": "ipython3",
   "version": "3.11.9"
  }
 },
 "nbformat": 4,
 "nbformat_minor": 5
}
