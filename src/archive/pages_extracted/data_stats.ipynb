{
 "cells": [
  {
   "cell_type": "code",
   "execution_count": 4,
   "id": "06b2ca6f",
   "metadata": {},
   "outputs": [
    {
     "name": "stdout",
     "output_type": "stream",
     "text": [
      "El País - Pages extracted: 44\n",
      "Emol - Pages extracted: 215\n",
      "La Tercera - Pages extracted: 23\n",
      "Ciper - Pages extracted: 23\n",
      "Total pages extracted: 305\n"
     ]
    }
   ],
   "source": [
    "import json\n",
    "\n",
    "elpais_data = {}\n",
    "emol_data = {}\n",
    "la_tercera_data = {}\n",
    "ciper_data = {}\n",
    "\n",
    "with open(\"el_pais/el_pais_pages_with_content_27_05_25.json\", 'r', encoding='utf-8') as file:\n",
    "    elpais_data = json.load(file)\n",
    "    \n",
    "with open(\"emol/emol_pages_with_content.json\", 'r', encoding='utf-8') as file:\n",
    "    emol_data = json.load(file)\n",
    "\n",
    "with open(\"la_tercera/la_tercera_pages.json\", 'r', encoding='utf-8') as file:\n",
    "    la_tercera_data = json.load(file)\n",
    "    \n",
    "with open(\"la_tercera/la_tercera_pages.json\", 'r', encoding='utf-8') as file:\n",
    "\t\tciper_data = json.load(file)\n",
    "\n",
    "total_pages = len(elpais_data[\"pages\"]) + len(emol_data[\"pages\"]) + len(la_tercera_data[\"pages\"]) + len(ciper_data[\"pages\"])\n",
    "\n",
    "print(\"El País - Pages extracted: \" + str(len(elpais_data[\"pages\"])))\n",
    "print(\"Emol - Pages extracted: \" + str(len(emol_data[\"pages\"])))\n",
    "print(\"La Tercera - Pages extracted: \" + str(len(la_tercera_data[\"pages\"])))\n",
    "print(\"Ciper - Pages extracted: \" + str(len(ciper_data[\"pages\"])))\n",
    "print(\"Total pages extracted: \" + str(total_pages))"
   ]
  }
 ],
 "metadata": {
  "kernelspec": {
   "display_name": "Python 3",
   "language": "python",
   "name": "python3"
  },
  "language_info": {
   "codemirror_mode": {
    "name": "ipython",
    "version": 3
   },
   "file_extension": ".py",
   "mimetype": "text/x-python",
   "name": "python",
   "nbconvert_exporter": "python",
   "pygments_lexer": "ipython3",
   "version": "3.11.9"
  }
 },
 "nbformat": 4,
 "nbformat_minor": 5
}
