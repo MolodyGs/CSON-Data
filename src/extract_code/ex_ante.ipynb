{
 "cells": [
  {
   "cell_type": "code",
   "execution_count": 1,
   "id": "41828c54",
   "metadata": {},
   "outputs": [],
   "source": [
    "import requests\n",
    "from bs4 import BeautifulSoup\n",
    "import json\n",
    "from selenium import webdriver\n",
    "from selenium.webdriver.chrome.options import Options\n",
    "from selenium.webdriver.common.by import By\n",
    "import time"
   ]
  },
  {
   "cell_type": "code",
   "execution_count": null,
   "id": "96f40397",
   "metadata": {},
   "outputs": [],
   "source": [
    "def verify_data(data):\n",
    "\ttry:\n",
    "\t\tdata = data.text\n",
    "\t\treturn data\n",
    "\texcept:\n",
    "\t\treturn \"None\"\n",
    "\n",
    "def get_pages(document_path):\n",
    "\n",
    "\tnum_pages = 1\n",
    "\tjson_pages_info = {\n",
    "\t\t\"pages\": []\n",
    "\t}\n",
    "\n",
    "\tsession = requests.Session()\n",
    "\tsession.headers.update({\n",
    "    \"User-Agent\": \"Mozilla/5.0...\",\n",
    "    \"Accept-Language\": \"es-ES,es;q=0.9\",\n",
    "\t})\n",
    "\n",
    "\tall_pages_links = []\n",
    "\n",
    "\tfor page in range(1, num_pages + 1):\n",
    "\t\turl = f'https://www.ex-ante.cl/page/{page}/?s=Estallido+Social+Chile'\n",
    "\t\tresponse = session.get(url)\n",
    "\n",
    "\t\tif response.status_code == 200:\n",
    "\t\t\tprint(\"status 200\")\n",
    "\n",
    "\t\t\tresponse.encoding = 'utf-8'\n",
    "\t\t\tcontent = response.content.decode('utf-8')\n",
    "\t\t\tsoup = BeautifulSoup(content, 'html.parser')\n",
    "\t\t\t\n",
    "\t\t\twith open('output.html', 'w', encoding='utf-8') as f:\n",
    "\t\t\t\tf.write(soup.prettify())\n",
    "\t\telse:\n",
    "\t\t\tprint(f\"Error al acceder a la página {page}: {response.status_code}\")\n",
    "\t\t\t\n",
    "\tprint(f\"Se han encontrado: {len(json_pages_info['pages'])} páginas\")\n",
    "\n",
    "\twith open(f\"{document_path}\", 'w', encoding='utf-8') as file:\n",
    "\t\tjson.dump(json_pages_info, file, ensure_ascii=False, indent=4)"
   ]
  },
  {
   "cell_type": "code",
   "execution_count": null,
   "id": "a6d7beaa",
   "metadata": {},
   "outputs": [],
   "source": [
    "get_pages(\"../archive/temp/exante_pages.json\")"
   ]
  },
  {
   "cell_type": "code",
   "execution_count": null,
   "id": "141c21b8",
   "metadata": {},
   "outputs": [],
   "source": [
    "\n",
    "json_pages_info = {\"pages\": []}\n",
    "\n",
    "options = Options()\n",
    "options.add_argument(\"--headless\") \n",
    "options.add_argument(\"--disable-gpu\")\n",
    "options.add_argument(\"--no-sandbox\")\n",
    "\n",
    "driver = webdriver.Chrome(options=options)\n",
    "\n",
    "url = f\"https://www.ex-ante.cl/page/1/?s=Estallido+Social+Chile\"\n",
    "\n",
    "driver.get(url)\n",
    "\n",
    "time.sleep(3)\n",
    "\n",
    "with open(f\"output.html\", \"w\", encoding=\"utf-8\") as f:\n",
    "\t\tf.write(driver.page_source)\n",
    "\n",
    "driver.quit()"
   ]
  }
 ],
 "metadata": {
  "kernelspec": {
   "display_name": "Python 3",
   "language": "python",
   "name": "python3"
  },
  "language_info": {
   "codemirror_mode": {
    "name": "ipython",
    "version": 3
   },
   "file_extension": ".py",
   "mimetype": "text/x-python",
   "name": "python",
   "nbconvert_exporter": "python",
   "pygments_lexer": "ipython3",
   "version": "3.11.9"
  }
 },
 "nbformat": 4,
 "nbformat_minor": 5
}
