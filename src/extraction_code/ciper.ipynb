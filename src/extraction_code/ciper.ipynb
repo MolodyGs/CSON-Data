{
 "cells": [
  {
   "cell_type": "code",
   "execution_count": null,
   "id": "747b334f",
   "metadata": {},
   "outputs": [],
   "source": [
    "from extraction import extract_articles_from_google\n",
    "from extraction import extract_data_from_page\n",
    "from selenium.webdriver.remote.webelement import WebElement\n",
    "from selenium.webdriver.common.by import By"
   ]
  },
  {
   "cell_type": "code",
   "execution_count": null,
   "id": "a09520d8",
   "metadata": {},
   "outputs": [],
   "source": [
    "pages_file_name = \"ciper_articles.json\"\n",
    "content_file_name = \"ciper_articles_with_content.json\""
   ]
  },
  {
   "cell_type": "code",
   "execution_count": null,
   "id": "00d44e2a",
   "metadata": {},
   "outputs": [],
   "source": [
    "extract_articles_from_google(\n",
    "    website=\"ciperchile.cl\",\n",
    "    newscast=\"Ciper\",\n",
    "    pages=2,\n",
    "    output=pages_file_name,\n",
    "    keywords=\"Estallido Social\",\n",
    "    )"
   ]
  },
  {
   "cell_type": "code",
   "execution_count": null,
   "id": "74fb57bb",
   "metadata": {},
   "outputs": [],
   "source": [
    "def get_content(body: WebElement):\n",
    "    content = body.find_element(By.CLASS_NAME, \"col-lg-9\").find_element(By.CLASS_NAME, \"col-lg-9\").text.strip()\n",
    "    content = content.split(\"NOTAS Y REFERENCIAS\")[0].strip()\n",
    "    return content\n",
    "\n",
    "def get_author(body: WebElement):\n",
    "\ttry:\n",
    "\t\treturn body.find_element(By.CLASS_NAME, \"article-big-text__author\").text.split(\"Por\")[1].strip()\n",
    "\texcept Exception:\n",
    "\t\treturn \"The website does not provide an author\"\n",
    "\n",
    "def get_description(body: WebElement):\n",
    "    return \"The website does not provide a description\"\n",
    "\n",
    "extract_data_from_page(\n",
    "\tinput_file=pages_file_name, \n",
    "\toutput_file=content_file_name,\n",
    "\tget_author=get_author,\n",
    "\tget_description=get_description,\n",
    "\tget_content=get_content,\n",
    "\tlimit_of_pages=5,\n",
    "\twait=60,\n",
    ")"
   ]
  }
 ],
 "metadata": {
  "kernelspec": {
   "display_name": ".venv",
   "language": "python",
   "name": "python3"
  },
  "language_info": {
   "codemirror_mode": {
    "name": "ipython",
    "version": 3
   },
   "file_extension": ".py",
   "mimetype": "text/x-python",
   "name": "python",
   "nbconvert_exporter": "python",
   "pygments_lexer": "ipython3",
   "version": "3.11.9"
  }
 },
 "nbformat": 4,
 "nbformat_minor": 5
}
