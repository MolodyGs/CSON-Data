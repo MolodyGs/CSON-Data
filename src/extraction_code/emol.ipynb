{
 "cells": [
  {
   "cell_type": "code",
   "execution_count": null,
   "id": "c1b05a6f",
   "metadata": {},
   "outputs": [],
   "source": [
    "from extraction import extract_articles_from_google\n",
    "from extraction import extract_data_from_page\n",
    "from selenium.webdriver.remote.webelement import WebElement\n",
    "from selenium.webdriver.common.by import By"
   ]
  },
  {
   "cell_type": "code",
   "execution_count": null,
   "id": "150c062d",
   "metadata": {},
   "outputs": [],
   "source": [
    "pages_file_name = \"emol_articles.json\"\n",
    "content_file_name = \"emol_articles_with_content.json\""
   ]
  },
  {
   "cell_type": "code",
   "execution_count": null,
   "id": "63c4ce09",
   "metadata": {},
   "outputs": [],
   "source": [
    "extract_articles_from_google(\n",
    "\twebsite=\"emol.com\",\n",
    "\tnewscast=\"Emol\",\n",
    "    pages=2,\n",
    "    output=pages_file_name,\n",
    "    keywords=\"Estallido Social\",\n",
    "    )"
   ]
  },
  {
   "cell_type": "code",
   "execution_count": null,
   "id": "33c51cb1",
   "metadata": {},
   "outputs": [],
   "source": [
    "def get_content(body: WebElement):\n",
    "\twords_to_avoid = [\n",
    "\t\t\"noticias relacionadas\"\n",
    "\t]\n",
    "\tcontent = \"\"\n",
    "\tfor element in body.find_element(By.ID, \"cuDetalle_cuTexto_textoNoticia\").find_elements(By.TAG_NAME, \"div\"):\n",
    "\t\tif any(phrase in element.text.lower() for phrase in words_to_avoid):\n",
    "\t\t\tcontinue\n",
    "\t\tcontent += element.text.strip().replace('\"', \"'\") + \"\\n\"\n",
    "\treturn content\n",
    "\n",
    "def get_author(body: WebElement):\n",
    "\ttry:\n",
    "\t\treturn body.find_element(By.CLASS_NAME, \"info-notaemol-porfecha\").text.split(\"Por\")[1].strip()\n",
    "\texcept Exception:\n",
    "\t\treturn \"The website does not provide an author\"\n",
    "\n",
    "def get_description(body: WebElement):\n",
    "\ttry:\n",
    "\t\treturn body.find_element(By.ID, \"cuDetalle_cuTitular_bajadaNoticia\").text.strip()\n",
    "\texcept Exception:\n",
    "\t\treturn \"The website does not provide a description\"\n",
    "\n",
    "extract_data_from_page(\n",
    "\tinput_file=pages_file_name, \n",
    "\toutput_file=content_file_name,\n",
    "\tget_author=get_author,\n",
    "\tget_description=get_description,\n",
    "\tget_content=get_content,\n",
    "\tlimit_of_pages=5,\n",
    "\twait=60,\n",
    ")"
   ]
  }
 ],
 "metadata": {
  "kernelspec": {
   "display_name": ".venv",
   "language": "python",
   "name": "python3"
  },
  "language_info": {
   "codemirror_mode": {
    "name": "ipython",
    "version": 3
   },
   "file_extension": ".py",
   "mimetype": "text/x-python",
   "name": "python",
   "nbconvert_exporter": "python",
   "pygments_lexer": "ipython3",
   "version": "3.11.9"
  }
 },
 "nbformat": 4,
 "nbformat_minor": 5
}
