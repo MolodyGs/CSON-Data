{
 "cells": [
  {
   "cell_type": "code",
   "execution_count": null,
   "id": "41828c54",
   "metadata": {},
   "outputs": [],
   "source": [
    "from extraction import extract_articles_from_google\n",
    "from extraction import extract_data_from_page\n",
    "from selenium.webdriver.remote.webelement import WebElement\n",
    "from selenium.webdriver.common.by import By"
   ]
  },
  {
   "cell_type": "code",
   "execution_count": null,
   "id": "72be2eef",
   "metadata": {},
   "outputs": [],
   "source": [
    "pages_file_name = \"ex_ante_articles.json\"\n",
    "content_file_name = \"ex_ante_articles_with_content.json\""
   ]
  },
  {
   "cell_type": "code",
   "execution_count": null,
   "id": "0eab944c",
   "metadata": {},
   "outputs": [],
   "source": [
    "extract_articles_from_google(\n",
    "\twebsite=\"ex-ante.cl\",\n",
    "\tnewscast=\"Ex-Ante\",\n",
    "    pages=2,\n",
    "    output=pages_file_name,\n",
    "    keywords=\"Estallido Social\",\n",
    "    )"
   ]
  },
  {
   "cell_type": "code",
   "execution_count": null,
   "id": "c592c881",
   "metadata": {},
   "outputs": [],
   "source": [
    "def get_content(body: WebElement):\n",
    "\twords_to_avoid = [\n",
    "\t\t\"También puede leer.\",\n",
    "\t\t\"Lea también\",\n",
    "\t\t\"Para seguir leyendo columnas de Ex-Ante, clic aquí.\",\n",
    "\t\t\"(Lea aquí la encuesta completa)\"\n",
    "\t]\n",
    "\tcontent = \"\"\n",
    "\tfor element in body.find_element(By.CLASS_NAME, \"contenido-noticia\").find_elements(By.TAG_NAME, \"p\"):\n",
    "\t\tif any(phrase in element.text for phrase in words_to_avoid):\n",
    "\t\t\tcontinue\n",
    "\t\tcontent += element.text.strip() + \"\\n\"\n",
    "\treturn content\n",
    "\n",
    "def get_author(body: WebElement):\n",
    "\ttry:\n",
    "\t\treturn body.find_element(By.CLASS_NAME, \"autor\").text.strip()\n",
    "\texcept Exception:\n",
    "\t\treturn \"The website does not provide an author\"\n",
    "\n",
    "def get_description(body: WebElement):\n",
    "\treturn \"not found\"\n",
    "\n",
    "extract_data_from_page(\n",
    "\tinput_file=pages_file_name, \n",
    "\toutput_file=content_file_name,\n",
    "\tget_author=get_author,\n",
    "\tget_description=get_description,\n",
    "\tget_content=get_content,\n",
    "\tlimit_of_pages=5,\n",
    "\twait=60,\n",
    ")"
   ]
  }
 ],
 "metadata": {
  "kernelspec": {
   "display_name": ".venv",
   "language": "python",
   "name": "python3"
  },
  "language_info": {
   "codemirror_mode": {
    "name": "ipython",
    "version": 3
   },
   "file_extension": ".py",
   "mimetype": "text/x-python",
   "name": "python",
   "nbconvert_exporter": "python",
   "pygments_lexer": "ipython3",
   "version": "3.11.9"
  }
 },
 "nbformat": 4,
 "nbformat_minor": 5
}
