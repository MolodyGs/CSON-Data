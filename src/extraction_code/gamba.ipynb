{
 "cells": [
  {
   "cell_type": "code",
   "execution_count": 2,
   "id": "da73ab9f",
   "metadata": {},
   "outputs": [],
   "source": [
    "from extraction import extract_articles_from_google\n",
    "from extraction import extract_data_from_page\n",
    "from selenium.webdriver.remote.webelement import WebElement\n",
    "from selenium.webdriver.common.by import By\n",
    "from selenium.webdriver.support.wait import WebDriverWait\n",
    "from selenium.webdriver.support import expected_conditions as EC"
   ]
  },
  {
   "cell_type": "code",
   "execution_count": 1,
   "id": "57732c6a",
   "metadata": {},
   "outputs": [],
   "source": [
    "pages_file_name = \"gamba_articles.json\"\n",
    "content_file_name = \"gamba_articles_with_content.json\""
   ]
  },
  {
   "cell_type": "code",
   "execution_count": null,
   "id": "331f9466",
   "metadata": {},
   "outputs": [],
   "source": [
    "extract_articles_from_google(\n",
    "\twebsite=\"gamba.cl\",\n",
    "\tnewscast=\"Gamba\",\n",
    "    pages=2,\n",
    "    output=pages_file_name,\n",
    "    keywords=\"Estallido Social\",\n",
    "    )"
   ]
  },
  {
   "cell_type": "code",
   "execution_count": null,
   "metadata": {},
   "outputs": [],
   "source": [
    "def get_content(body: WebElement):\n",
    "\tcontent = \"\"\n",
    "\tfor element in body.find_element(By.CLASS_NAME, \"ultp-builder-content\").find_elements(By.TAG_NAME, \"p\"):\n",
    "\t\tif \"SIGAN NUESTRO NUEVO FACEBOOK\" in element.text:\n",
    "\t\t\tcontinue \n",
    "\t\tcontent += element.text.strip() + \"\\n\"\n",
    "\treturn content\n",
    "\n",
    "def get_author(body: WebElement):\n",
    "\treturn \"The website does not provide an author\"\n",
    "\n",
    "def get_description(body: WebElement):\n",
    "\ttry:\n",
    "\t\treturn body.find_element(By.CLASS_NAME, \"article-head__subtitle\").text.strip()\n",
    "\texcept:\n",
    "\t\treturn \"not found\"\n",
    "\n",
    "def before(driver):\n",
    "\tprint(driver.title)\n",
    "\tWebDriverWait(driver, 60).until(lambda d: (\"Just a moment\" not in d.title and \"Un momento…\" not in d.title))\n",
    "\tprint(\"[INFO] Page loaded successfully.\")\n",
    "\tprint(driver.title)\n",
    "\treturn driver\n",
    " \n",
    "\n",
    "extract_data_from_page(\n",
    "\tinput_file=pages_file_name, \n",
    "\toutput_file=content_file_name,\n",
    "\tget_author=get_author,\n",
    "\tget_description=get_description,\n",
    "\tget_content=get_content,\n",
    "\tlimit_of_pages=1,\n",
    " \twait=60,\n",
    " \tbefore=before\n",
    ")"
   ]
  }
 ],
 "metadata": {
  "kernelspec": {
   "display_name": ".venv",
   "language": "python",
   "name": "python3"
  },
  "language_info": {
   "codemirror_mode": {
    "name": "ipython",
    "version": 3
   },
   "file_extension": ".py",
   "mimetype": "text/x-python",
   "name": "python",
   "nbconvert_exporter": "python",
   "pygments_lexer": "ipython3",
   "version": "3.11.9"
  }
 },
 "nbformat": 4,
 "nbformat_minor": 5
}
