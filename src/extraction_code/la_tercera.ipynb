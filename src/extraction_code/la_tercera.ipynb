{
 "cells": [
  {
   "cell_type": "code",
   "execution_count": 2,
   "id": "747b334f",
   "metadata": {},
   "outputs": [],
   "source": [
    "from selenium.webdriver.remote.webelement import WebElement\n",
    "from extraction import extract_data_from_page\n",
    "from selenium.webdriver.common.by import By"
   ]
  },
  {
   "cell_type": "code",
   "execution_count": 3,
   "id": "fc876600",
   "metadata": {},
   "outputs": [
    {
     "ename": "TypeError",
     "evalue": "extract_data_from_page() missing 1 required positional argument: 'limit_of_pages'",
     "output_type": "error",
     "traceback": [
      "\u001b[31m---------------------------------------------------------------------------\u001b[39m",
      "\u001b[31mTypeError\u001b[39m                                 Traceback (most recent call last)",
      "\u001b[36mCell\u001b[39m\u001b[36m \u001b[39m\u001b[32mIn[3]\u001b[39m\u001b[32m, line 20\u001b[39m\n\u001b[32m     16\u001b[39m \t\u001b[38;5;28;01mexcept\u001b[39;00m:\n\u001b[32m     17\u001b[39m \t\t\u001b[38;5;28;01mreturn\u001b[39;00m \u001b[33m\"\u001b[39m\u001b[33mnot found\u001b[39m\u001b[33m\"\u001b[39m\n\u001b[32m---> \u001b[39m\u001b[32m20\u001b[39m \u001b[43mextract_data_from_page\u001b[49m\u001b[43m(\u001b[49m\n\u001b[32m     21\u001b[39m \u001b[43m\t\u001b[49m\u001b[43minput_file\u001b[49m\u001b[43m=\u001b[49m\u001b[33;43m\"\u001b[39;49m\u001b[33;43m../archive/pages_extracted/la_tercera/la_tercera_090725_cleanData.json\u001b[39;49m\u001b[33;43m\"\u001b[39;49m\u001b[43m,\u001b[49m\u001b[43m \u001b[49m\n\u001b[32m     22\u001b[39m \u001b[43m\t\u001b[49m\u001b[43moutput_file\u001b[49m\u001b[43m=\u001b[49m\u001b[33;43m\"\u001b[39;49m\u001b[33;43mtest.json\u001b[39;49m\u001b[33;43m\"\u001b[39;49m\u001b[43m,\u001b[49m\n\u001b[32m     23\u001b[39m \u001b[43m\t\u001b[49m\u001b[43mget_author\u001b[49m\u001b[43m=\u001b[49m\u001b[43mget_author\u001b[49m\u001b[43m,\u001b[49m\n\u001b[32m     24\u001b[39m \u001b[43m\t\u001b[49m\u001b[43mget_description\u001b[49m\u001b[43m=\u001b[49m\u001b[43mget_description\u001b[49m\u001b[43m,\u001b[49m\n\u001b[32m     25\u001b[39m \u001b[43m\t\u001b[49m\u001b[43mget_content\u001b[49m\u001b[43m=\u001b[49m\u001b[43mget_content\u001b[49m\u001b[43m\t\u001b[49m\n\u001b[32m     26\u001b[39m \u001b[43m)\u001b[49m\n",
      "\u001b[31mTypeError\u001b[39m: extract_data_from_page() missing 1 required positional argument: 'limit_of_pages'"
     ]
    }
   ],
   "source": [
    "def get_content(body: WebElement):\n",
    "\tcontent = \"\"\n",
    "\tfor element in body.find_elements(By.CLASS_NAME, \"article-body__paragraph\"):\n",
    "\t\tcontent += element.text.strip() + \"\\n\"\n",
    "\treturn content\n",
    "\n",
    "def get_author(body: WebElement):\n",
    "\ttry:\n",
    "\t\treturn body.find_element(By.CLASS_NAME, \"article-body__byline__author\").text.strip()\n",
    "\texcept:\n",
    "\t\treturn \"not found\"\n",
    "\n",
    "def get_description(body: WebElement):\n",
    "\ttry:\n",
    "\t\treturn body.find_element(By.CLASS_NAME, \"article-head__subtitle\").text.strip()\n",
    "\texcept:\n",
    "\t\treturn \"not found\"\n",
    "\n",
    "\n",
    "extract_data_from_page(\n",
    "\tinput_file=\"../archive/pages_extracted/la_tercera/la_tercera_090725_cleanData.json\", \n",
    "\toutput_file=\"test.json\",\n",
    "\tget_author=get_author,\n",
    "\tget_description=get_description,\n",
    "\tget_content=get_content\t\n",
    ")"
   ]
  }
 ],
 "metadata": {
  "kernelspec": {
   "display_name": ".venv",
   "language": "python",
   "name": "python3"
  },
  "language_info": {
   "codemirror_mode": {
    "name": "ipython",
    "version": 3
   },
   "file_extension": ".py",
   "mimetype": "text/x-python",
   "name": "python",
   "nbconvert_exporter": "python",
   "pygments_lexer": "ipython3",
   "version": "3.11.9"
  }
 },
 "nbformat": 4,
 "nbformat_minor": 5
}
