{
 "cells": [
  {
   "cell_type": "code",
   "execution_count": null,
   "id": "da6e3f2a",
   "metadata": {},
   "outputs": [],
   "source": [
    "from extraction import extract_articles_from_google\n",
    "from extraction import extract_data_from_page\n",
    "from selenium.webdriver.remote.webelement import WebElement\n",
    "from selenium.webdriver.common.by import By"
   ]
  },
  {
   "cell_type": "code",
   "execution_count": null,
   "id": "3130245e",
   "metadata": {},
   "outputs": [],
   "source": [
    "pages_file_name = \"the_clinic_articles.json\"\n",
    "content_file_name = \"the_clinic_articles_with_content.json\""
   ]
  },
  {
   "cell_type": "code",
   "execution_count": null,
   "id": "41067fc8",
   "metadata": {},
   "outputs": [],
   "source": [
    "extract_articles_from_google(\n",
    "\twebsite=\"theclinic.cl\",\n",
    "\tnewscast=\"The Clinic\",\n",
    "    keywords=\"Estallido Social\",\n",
    "    output=pages_file_name,\n",
    "    pages=2,\n",
    "    )"
   ]
  },
  {
   "cell_type": "code",
   "execution_count": null,
   "id": "2cb8e8e5",
   "metadata": {},
   "outputs": [],
   "source": [
    "def get_content(body: WebElement):\n",
    "\tcontent = \"\"\n",
    "\tfor element in body.find_element(By.CLASS_NAME, \"the-content\").find_elements(By.TAG_NAME, \"p\"):\n",
    "\t\tif \"Volver al Home\" in element.text or \"También puedes leer\" in element.text:\n",
    "\t\t\tcontinue\n",
    "\t\tcontent += element.text.strip() + \"\\n\"\n",
    "\treturn content\n",
    "\n",
    "def get_author(body: WebElement):\n",
    "\ttry:\n",
    "\t\treturn body.find_element(By.CLASS_NAME, \"autor\").find_element(By.TAG_NAME, \"a\").text.strip()\n",
    "\texcept:\n",
    "\t\treturn \"not found\"\n",
    "\n",
    "def get_description(body: WebElement):\n",
    "\treturn \"not found\"\n",
    "\n",
    "\n",
    "extract_data_from_page(\n",
    "\tinput_file=pages_file_name, \n",
    "\toutput_file=content_file_name,\n",
    "\tget_author=get_author,\n",
    "\tget_description=get_description,\n",
    "\tget_content=get_content,\n",
    " \tlimit_of_pages=1\n",
    ")"
   ]
  }
 ],
 "metadata": {
  "kernelspec": {
   "display_name": ".venv",
   "language": "python",
   "name": "python3"
  },
  "language_info": {
   "codemirror_mode": {
    "name": "ipython",
    "version": 3
   },
   "file_extension": ".py",
   "mimetype": "text/x-python",
   "name": "python",
   "nbconvert_exporter": "python",
   "pygments_lexer": "ipython3",
   "version": "3.11.9"
  }
 },
 "nbformat": 4,
 "nbformat_minor": 5
}
