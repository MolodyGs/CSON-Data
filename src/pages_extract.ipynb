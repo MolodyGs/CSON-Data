{
 "cells": [
  {
   "cell_type": "markdown",
   "metadata": {},
   "source": [
    "# Fetch Google News articles from November 15, 2019 to December 17, 2023.\n",
    "\n",
    "The data is extracted by looking for the following websites:\n",
    "\n",
    "- El Pais\n"
   ]
  },
  {
   "cell_type": "code",
   "execution_count": 2,
   "metadata": {},
   "outputs": [],
   "source": [
    "import requests\n",
    "from bs4 import BeautifulSoup\n",
    "import json"
   ]
  },
  {
   "cell_type": "markdown",
   "metadata": {},
   "source": [
    "# Get pages from El Pais\n"
   ]
  },
  {
   "cell_type": "code",
   "execution_count": null,
   "metadata": {},
   "outputs": [],
   "source": [
    "def verify_data(data):\n",
    "\ttry:\n",
    "\t\tdata = data.text\n",
    "\t\treturn data\n",
    "\texcept:\n",
    "\t\treturn \"None\"\n",
    "\n",
    "def get_pages(term, document_path):\n",
    "\n",
    "\tsearch_term = term\n",
    "\tsearch_term = search_term.replace(' ', '+')  \n",
    "\tnum_pages = 1\n",
    "\tjson_pages_info = {\n",
    "\t\t\"pages\": []\n",
    "\t}\n",
    "\n",
    "\theaders = {'User-Agent': 'Chrome/58.0.3029.110'}\n",
    "\n",
    "\tall_pages_links = []\n",
    "\n",
    "\tfor page in range(0, num_pages):\n",
    "\t\turl = f'https://elpais.com/buscador/Estallido%20Social%20en%20Chile/{page}'\n",
    "\t\tresponse = requests.get(url, headers=headers)\n",
    "\n",
    "\t\tif response.status_code == 200:\n",
    "\t\t\tprint(\"status 200\")\n",
    "\n",
    "\t\t\tresponse.encoding = 'ISO-8859-1'\n",
    "\t\t\tcontent = response.content.decode('ISO-8859-1')\n",
    "\t\t\tsoup = BeautifulSoup(content, 'html.parser')\n",
    "\t\t\t\n",
    "\t\t\twith open('output.html', 'w', encoding='utf-8') as f:\n",
    "\t\t\t\tf.write(soup.prettify())\n",
    "\n",
    "\t\t\tnews = soup.find(\"div\", class_=\"bu_b _g-o\").find_all('article')\n",
    "\n",
    "\t\t\tfor page_section in news:\n",
    "\n",
    "\t\t\t\ttimestamp = (int)(page_section[\"data-timestamp\"])\n",
    "\t\t\t\tif (timestamp < 1573786800 or timestamp > 1702782000):\n",
    "\t\t\t\t\tprint(\"La noticia no corresponde a la fecha solicitada\")\n",
    "\t\t\t\t\tcontinue\n",
    "\n",
    "\t\t\t\ttitle = verify_data(page_section.find(\"header\").find(\"h2\"))\n",
    "\t\t\t\tcategory = verify_data(page_section.find(\"header\").find(\"a\"))\n",
    "\t\t\t\tdescription = verify_data(page_section.find(\"p\", class_=\"c_d\"))\n",
    "\t\t\t\tdate = verify_data(page_section.find(\"div\", class_=\"c_f\"))\n",
    "\t\t\t\timage_link = page_section.find(\"figure\").find(\"a\", href=True)[\"href\"]\n",
    "\t\t\t\tauthor = verify_data(page_section.find(\"div\", class_=\"c_a\"))\n",
    "\n",
    "\t\t\t\tlink_section = page_section.find(\"header\").find(\"h2\").find('a', href=True)\n",
    "\t\t\t\tlink = link_section['href']\n",
    "\n",
    "\t\t\t\tif (all_pages_links.count(link) > 0):\n",
    "\t\t\t\t\tprint(\"Sitio ya ingresado\")\n",
    "\t\t\t\t\tcontinue\n",
    "\t\t\t\telse:\n",
    "\t\t\t\t\tall_pages_links.append(link)\n",
    "\n",
    "\t\t\t\tlink_info = {\n",
    "\t\t\t\t\t\"newscast\" : \"El País\",\n",
    "\t\t\t\t\t\"title\": title,\n",
    "\t\t\t\t\t\"description\": description,\n",
    "\t\t\t\t\t\"category\": category,\n",
    "\t\t\t\t\t\"date\": date,\n",
    "\t\t\t\t\t\"image_link\": image_link,\n",
    "\t\t\t\t\t\"author\": author,\n",
    "\t\t\t\t\t\"link\": link,\n",
    "\t\t\t\t}\n",
    "\t\t\t\tjson_pages_info[\"pages\"].append(link_info)\n",
    "\t\telse:\n",
    "\t\t\tprint(f\"Error al acceder a la página {page + 1}: {response.status_code}\")\n",
    "\t\t\t\n",
    "\tprint(f\"Se han encontrado: {len(json_pages_info['pages'])} páginas\")\n",
    "\n",
    "\twith open(f\"{document_path}\", 'w', encoding='utf-8') as file:\n",
    "\t\tjson.dump(json_pages_info, file, ensure_ascii=False, indent=4)"
   ]
  },
  {
   "cell_type": "code",
   "execution_count": null,
   "metadata": {},
   "outputs": [
    {
     "name": "stdout",
     "output_type": "stream",
     "text": [
      "status 200\n",
      "La noticia no corresponde a la fecha solicitada\n",
      "La noticia no corresponde a la fecha solicitada\n",
      "La noticia no corresponde a la fecha solicitada\n",
      "La noticia no corresponde a la fecha solicitada\n",
      "La noticia no corresponde a la fecha solicitada\n",
      "La noticia no corresponde a la fecha solicitada\n",
      "La noticia no corresponde a la fecha solicitada\n",
      "Se han encontrado: 7 páginas\n"
     ]
    }
   ],
   "source": [
    "get_pages('Estallido Social Chile', './archive/elpais_pages_aux.json')"
   ]
  },
  {
   "cell_type": "code",
   "execution_count": 5,
   "metadata": {},
   "outputs": [
    {
     "name": "stdout",
     "output_type": "stream",
     "text": [
      "44\n"
     ]
    }
   ],
   "source": [
    "with open(\"archive/elpais_pages.json\", 'r', encoding='utf-8') as file:\n",
    "    file = json.load(file)\n",
    "    print(len(file[\"pages\"]))"
   ]
  }
 ],
 "metadata": {
  "kernelspec": {
   "display_name": ".venv",
   "language": "python",
   "name": "python3"
  },
  "language_info": {
   "codemirror_mode": {
    "name": "ipython",
    "version": 3
   },
   "file_extension": ".py",
   "mimetype": "text/x-python",
   "name": "python",
   "nbconvert_exporter": "python",
   "pygments_lexer": "ipython3",
   "version": "3.11.9"
  }
 },
 "nbformat": 4,
 "nbformat_minor": 2
}
